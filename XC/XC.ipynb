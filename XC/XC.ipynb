{
 "cells": [
  {
   "cell_type": "code",
   "execution_count": 2,
   "metadata": {},
   "outputs": [
    {
     "name": "stderr",
     "output_type": "stream",
     "text": [
      "/Users/kitty/miniconda3/lib/python3.6/importlib/_bootstrap.py:219: RuntimeWarning: numpy.dtype size changed, may indicate binary incompatibility. Expected 96, got 88\n",
      "  return f(*args, **kwds)\n"
     ]
    }
   ],
   "source": [
    "from scipy.io.wavfile import read\n",
    "import numpy as np\n",
    "from matplotlib import pyplot as plt\n",
    "from scipy import signal, stats\n",
    "import pytest\n",
    "import math\n",
    "import ipytest\n",
    "import cProfile\n",
    "ipytest.config(rewrite_asserts=True, magics=True)\n",
    "__filename__ = \"XC\""
   ]
  },
  {
   "cell_type": "code",
   "execution_count": 3,
   "metadata": {},
   "outputs": [],
   "source": [
    "def stereo_to_mono(audio):\n",
    "    return audio.sum(axis=1) / 2"
   ]
  },
  {
   "cell_type": "code",
   "execution_count": 4,
   "metadata": {},
   "outputs": [],
   "source": [
    "frq, raw_sample = read(\"oblivion.wav\")\n",
    "original = stereo_to_mono(raw_sample)"
   ]
  },
  {
   "cell_type": "code",
   "execution_count": 5,
   "metadata": {},
   "outputs": [],
   "source": [
    "frq, raw_sample = read(\"oblivion.cut.wav\")\n",
    "sample = stereo_to_mono(raw_sample)\n",
    "# sample = stats.zscore(np.array(sample[1], dtype=float))\n"
   ]
  },
  {
   "cell_type": "code",
   "execution_count": 6,
   "metadata": {},
   "outputs": [
    {
     "data": {
      "text/plain": [
       "959488"
      ]
     },
     "execution_count": 6,
     "metadata": {},
     "output_type": "execute_result"
    }
   ],
   "source": [
    "noise = np.random.normal(0, 1, sample.shape)\n",
    "len(noise)"
   ]
  },
  {
   "cell_type": "code",
   "execution_count": 7,
   "metadata": {},
   "outputs": [
    {
     "data": {
      "image/png": "[encoded data removed]",
      "text/plain": [
       "<Figure size 432x288 with 1 Axes>"
      ]
     },
     "metadata": {
      "needs_background": "light"
     },
     "output_type": "display_data"
    }
   ],
   "source": [
    "original_l, = plt.plot(original, label=\"original\")\n",
    "sample_l, = plt.plot(sample + noise, label=\"noisey sample\")\n",
    "plt.legend([original_l, sample_l], [\"original\", \"noisey\"])\n",
    "plt.show()"
   ]
  },
  {
   "cell_type": "code",
   "execution_count": 8,
   "metadata": {},
   "outputs": [],
   "source": [
    "from cmath import *\n",
    "def fft(x):\n",
    "        N=len(x)\n",
    "        if N==1: return x\n",
    " \n",
    "        even=fft([x[k] for k in range(0,N,2)])\n",
    "        odd= fft([x[k] for k in range(1,N,2)])\n",
    " \n",
    "        M=N/2\n",
    "        l=[ even[k] + exp(-2j*pi*k/N)*odd[k] for k in range(M) ]\n",
    "        r=[ even[k] - exp(-2j*pi*k/N)*odd[k] for k in range(M) ]\n",
    " \n",
    "        return l+r"
   ]
  },
  {
   "cell_type": "code",
   "execution_count": 18,
   "metadata": {},
   "outputs": [],
   "source": [
    "def low_pass(data, cutoff_frq, nyq_freq, order=4):\n",
    "    normal_cutoff = float(cutoff) / nyq_freq\n",
    "    b, a = signal.butter(order, normal_cutoff, btype='lowpass', output='ba')\n",
    "    y = signal.filtfilt(b, a, data)\n",
    "    return y\n",
    "    "
   ]
  },
  {
   "cell_type": "code",
   "execution_count": 21,
   "metadata": {},
   "outputs": [
    {
     "name": "stderr",
     "output_type": "stream",
     "text": [
      "/Users/kitty/miniconda3/lib/python3.6/site-packages/scipy/signal/_arraytools.py:45: FutureWarning: Using a non-tuple sequence for multidimensional indexing is deprecated; use `arr[tuple(seq)]` instead of `arr[seq]`. In the future this will be interpreted as an array index, `arr[np.array(seq)]`, which will result either in an error or a different result.\n",
      "  b = a[a_slice]\n",
      "/Users/kitty/miniconda3/lib/python3.6/site-packages/scipy/signal/signaltools.py:3463: FutureWarning: Using a non-tuple sequence for multidimensional indexing is deprecated; use `arr[tuple(seq)]` instead of `arr[seq]`. In the future this will be interpreted as an array index, `arr[np.array(seq)]`, which will result either in an error or a different result.\n",
      "  return y[sl]\n"
     ]
    }
   ],
   "source": [
    "def filter_and_downsample(data):\n",
    "    # low_pass preapplied\n",
    "    return signal.decimate(data, 4, n=4)\n",
    "filtered_data = filter_and_downsample(original)"
   ]
  },
  {
   "cell_type": "code",
   "execution_count": 9,
   "metadata": {},
   "outputs": [],
   "source": [
    "def create_window(frq, bin_num, total_width, seconds=0.1):\n",
    "    bin_size = int(frq * seconds)\n",
    "    frame = np.hanning(bin_size)\n",
    "    left_pad = np.zeros(bin_num * bin_size)\n",
    "    right_pad = np.zeros(total_width - ((bin_num + 1) * bin_size))\n",
    "    window = np.concatenate((left_pad, frame, right_pad), axis=0)\n",
    "    return window"
   ]
  },
  {
   "cell_type": "code",
   "execution_count": 10,
   "metadata": {
    "scrolled": true
   },
   "outputs": [
    {
     "data": {
      "image/png": "[encoded data removed]",
      "text/plain": [
       "<Figure size 432x288 with 1 Axes>"
      ]
     },
     "metadata": {
      "needs_background": "light"
     },
     "output_type": "display_data"
    }
   ],
   "source": [
    "def test_window():\n",
    "    w = create_window(48000, 180, 959488)\n",
    "    assert len(w) == 959488\n",
    "    assert max(w) == pytest.approx(1.0, 0.0001)\n",
    "    plt.plot(w)\n",
    "    plt.show()\n",
    "test_window()"
   ]
  },
  {
   "cell_type": "code",
   "execution_count": 11,
   "metadata": {},
   "outputs": [],
   "source": [
    "def apply_window(data, frq, bin_num):\n",
    "    window = create_window(frq, bin_num, len(data))\n",
    "    return data * window"
   ]
  },
  {
   "cell_type": "code",
   "execution_count": 12,
   "metadata": {},
   "outputs": [],
   "source": [
    "def zero_pad(records):\n",
    "    x = len(records)\n",
    "    zeroes = pow(2, math.ceil(math.log(x) / math.log(2))) - x\n",
    "    return np.concatenate((records, [0] * zeroes))"
   ]
  },
  {
   "cell_type": "code",
   "execution_count": 13,
   "metadata": {},
   "outputs": [],
   "source": [
    "def test_zero_pad():\n",
    "    records = np.array([1, 2, 3, 4, 5, 6, 7, 8, 9, 10])\n",
    "    ans = zero_pad(records)\n",
    "    assert len(ans) == 16\n",
    "test_zero_pad()"
   ]
  },
  {
   "cell_type": "code",
   "execution_count": 14,
   "metadata": {},
   "outputs": [
    {
     "data": {
      "image/png": "[encoded data removed]",
      "text/plain": [
       "<Figure size 432x288 with 1 Axes>"
      ]
     },
     "metadata": {
      "needs_background": "light"
     },
     "output_type": "display_data"
    }
   ],
   "source": [
    "result = zero_pad(apply_window(original, frq, 0))\n",
    "plt.plot(result)\n",
    "plt.show()"
   ]
  },
  {
   "cell_type": "code",
   "execution_count": 15,
   "metadata": {},
   "outputs": [],
   "source": [
    "def create_frequencies():\n",
    "    seconds = 0.1\n",
    "    bin_size = int(frq * seconds)\n",
    "    num_bins = len(original) // bin_size\n",
    "    results = []\n",
    "    for bin_num in range(12): # num_bins\n",
    "        values = apply_window(original, frq, bin_num)\n",
    "        padded_values = zero_pad(values)\n",
    "        F = np.fft.fft(padded_values)\n",
    "        results.append(F)\n",
    "        print(bin_num)\n",
    "    return results"
   ]
  },
  {
   "cell_type": "code",
   "execution_count": 16,
   "metadata": {},
   "outputs": [
    {
     "name": "stdout",
     "output_type": "stream",
     "text": [
      "0\n",
      "1\n",
      "2\n",
      "3\n",
      "4\n",
      "5\n",
      "6\n",
      "7\n",
      "8\n",
      "9\n",
      "10\n",
      "11\n",
      "         820 function calls in 9.788 seconds\n",
      "\n",
      "   Ordered by: standard name\n",
      "\n",
      "   ncalls  tottime  percall  cumtime  percall filename:lineno(function)\n",
      "       12    0.307    0.026    0.511    0.043 <ipython-input-11-921091b4ea2c>:1(apply_window)\n",
      "       12    0.032    0.003    0.673    0.056 <ipython-input-12-051dcd2c3f8d>:1(zero_pad)\n",
      "        1    0.231    0.231    9.663    9.663 <ipython-input-15-5c889a6089be>:1(create_frequencies)\n",
      "       12    0.000    0.000    0.204    0.017 <ipython-input-9-b1aea92fb137>:1(create_window)\n",
      "        1    0.125    0.125    9.788    9.788 <string>:1(<module>)\n",
      "       12    0.000    0.000    8.246    0.687 fftpack.py:102(fft)\n",
      "       12    0.000    0.000    7.926    0.661 fftpack.py:47(_raw_fft)\n",
      "       12    0.000    0.000    0.000    0.000 fftpack.py:95(_unitary)\n",
      "       12    0.007    0.001    0.007    0.001 function_base.py:2617(hanning)\n",
      "       12    0.000    0.000    0.000    0.000 helper.py:251(put_twiddle_factors)\n",
      "       12    0.000    0.000    0.000    0.000 helper.py:277(pop_twiddle_factors)\n",
      "       12    0.000    0.000    0.000    0.000 helper.py:305(_prune_cache)\n",
      "       36    0.000    0.000    0.001    0.000 iostream.py:195(schedule)\n",
      "       24    0.000    0.000    0.000    0.000 iostream.py:307(_is_master_process)\n",
      "       24    0.000    0.000    0.000    0.000 iostream.py:320(_schedule_flush)\n",
      "       24    0.000    0.000    0.002    0.000 iostream.py:382(write)\n",
      "       36    0.000    0.000    0.000    0.000 iostream.py:93(_event_pipe)\n",
      "       24    0.000    0.000    0.000    0.000 numeric.py:433(asarray)\n",
      "       36    0.001    0.000    0.001    0.000 socket.py:334(send)\n",
      "       36    0.000    0.000    0.000    0.000 threading.py:1062(_wait_for_tstate_lock)\n",
      "       36    0.000    0.000    0.000    0.000 threading.py:1104(is_alive)\n",
      "       36    0.000    0.000    0.000    0.000 threading.py:506(is_set)\n",
      "        1    0.000    0.000    9.788    9.788 {built-in method builtins.exec}\n",
      "       24    0.000    0.000    0.000    0.000 {built-in method builtins.isinstance}\n",
      "       37    0.000    0.000    0.000    0.000 {built-in method builtins.len}\n",
      "       12    0.000    0.000    0.000    0.000 {built-in method builtins.pow}\n",
      "       12    0.000    0.000    0.002    0.000 {built-in method builtins.print}\n",
      "       12    0.000    0.000    0.000    0.000 {built-in method math.ceil}\n",
      "       24    0.000    0.000    0.000    0.000 {built-in method math.log}\n",
      "       12    0.000    0.000    0.000    0.000 {built-in method numpy.core.multiarray.arange}\n",
      "       24    0.000    0.000    0.000    0.000 {built-in method numpy.core.multiarray.array}\n",
      "       24    0.760    0.032    0.760    0.032 {built-in method numpy.core.multiarray.concatenate}\n",
      "       24    0.078    0.003    0.078    0.003 {built-in method numpy.core.multiarray.zeros}\n",
      "       12    7.651    0.638    7.651    0.638 {built-in method numpy.fft.fftpack_lite.cfftf}\n",
      "        1    0.274    0.274    0.274    0.274 {built-in method numpy.fft.fftpack_lite.cffti}\n",
      "       24    0.000    0.000    0.000    0.000 {built-in method posix.getpid}\n",
      "       36    0.000    0.000    0.000    0.000 {method 'acquire' of '_thread.lock' objects}\n",
      "       36    0.000    0.000    0.000    0.000 {method 'append' of 'collections.deque' objects}\n",
      "       24    0.000    0.000    0.000    0.000 {method 'append' of 'list' objects}\n",
      "       12    0.320    0.027    0.320    0.027 {method 'astype' of 'numpy.ndarray' objects}\n",
      "        1    0.000    0.000    0.000    0.000 {method 'disable' of '_lsprof.Profiler' objects}\n",
      "       23    0.000    0.000    0.000    0.000 {method 'pop' of 'collections.OrderedDict' objects}\n",
      "       11    0.000    0.000    0.000    0.000 {method 'pop' of 'list' objects}\n",
      "\n",
      "\n"
     ]
    }
   ],
   "source": [
    "cProfile.run('create_frequencies()')"
   ]
  },
  {
   "cell_type": "code",
   "execution_count": 22,
   "metadata": {},
   "outputs": [
    {
     "data": {
      "text/plain": [
       "(1906808,)"
      ]
     },
     "execution_count": 22,
     "metadata": {},
     "output_type": "execute_result"
    }
   ],
   "source": [
    "# Frequency went from 44.1kHz to 11.025kHz\n",
    "filtered_data.shape"
   ]
  },
  {
   "cell_type": "code",
   "execution_count": 24,
   "metadata": {},
   "outputs": [
    {
     "data": {
      "image/png": "[encoded data removed]",
      "text/plain": [
       "<Figure size 432x288 with 1 Axes>"
      ]
     },
     "metadata": {
      "needs_background": "light"
     },
     "output_type": "display_data"
    }
   ],
   "source": [
    "plt.plot(filtered_data)\n",
    "plt.show()"
   ]
  },
  {
   "cell_type": "code",
   "execution_count": null,
   "metadata": {},
   "outputs": [],
   "source": []
  }
 ],
 "metadata": {
  "kernelspec": {
   "display_name": "Python 3",
   "language": "python",
   "name": "python3"
  },
  "language_info": {
   "codemirror_mode": {
    "name": "ipython",
    "version": 3
   },
   "file_extension": ".py",
   "mimetype": "text/x-python",
   "name": "python",
   "nbconvert_exporter": "python",
   "pygments_lexer": "ipython3",
   "version": "3.6.5"
  }
 },
 "nbformat": 4,
 "nbformat_minor": 2
}
