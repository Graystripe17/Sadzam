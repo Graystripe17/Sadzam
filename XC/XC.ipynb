{
 "cells": [
  {
   "cell_type": "code",
   "execution_count": 5,
   "metadata": {},
   "outputs": [
    {
     "name": "stderr",
     "output_type": "stream",
     "text": [
      "/Users/kitty/miniconda3/lib/python3.6/importlib/_bootstrap.py:219: RuntimeWarning: numpy.dtype size changed, may indicate binary incompatibility. Expected 96, got 88\n",
      "  return f(*args, **kwds)\n"
     ]
    }
   ],
   "source": [
    "from scipy.io.wavfile import read\n",
    "import numpy as np\n",
    "from matplotlib import pyplot as plt\n",
    "from scipy import signal, stats\n",
    "import pytest\n",
    "import math\n",
    "import ipytest\n",
    "import cProfile\n",
    "from cmath import *\n",
    "ipytest.config(rewrite_asserts=True, magics=True)\n",
    "__filename__ = \"XC\""
   ]
  },
  {
   "cell_type": "code",
   "execution_count": null,
   "metadata": {},
   "outputs": [],
   "source": [
    "def stereo_to_mono(audio):\n",
    "    return audio.sum(axis=1) / 2"
   ]
  },
  {
   "cell_type": "code",
   "execution_count": null,
   "metadata": {},
   "outputs": [],
   "source": [
    "frq, raw_sample = read(\"oblivion.wav\")\n",
    "original = stereo_to_mono(raw_sample)"
   ]
  },
  {
   "cell_type": "code",
   "execution_count": null,
   "metadata": {},
   "outputs": [],
   "source": [
    "frq, raw_sample = read(\"oblivion.cut.wav\")\n",
    "sample = stereo_to_mono(raw_sample)"
   ]
  },
  {
   "cell_type": "code",
   "execution_count": null,
   "metadata": {},
   "outputs": [],
   "source": [
    "noise = np.random.normal(0, 1, sample.shape)\n",
    "len(noise)"
   ]
  },
  {
   "cell_type": "code",
   "execution_count": null,
   "metadata": {},
   "outputs": [],
   "source": [
    "original_l, = plt.plot(original, label=\"original\")\n",
    "sample_l, = plt.plot(sample + noise, label=\"noisey sample\")\n",
    "plt.legend([original_l, sample_l], [\"original\", \"noisey\"])\n",
    "plt.show()"
   ]
  },
  {
   "cell_type": "code",
   "execution_count": 6,
   "metadata": {},
   "outputs": [],
   "source": [
    "class AudioClip(object):\n",
    "    def __init__(self, data, frq):\n",
    "        self.data = data\n",
    "        self.frq = frq\n",
    "    \n",
    "    def low_pass(self, cutoff_frq, nyq_freq, order=4):\n",
    "        normal_cutoff = float(cutoff_frq) / nyq_freq\n",
    "        b, a = signal.butter(order, normal_cutoff, btype='lowpass', output='ba')\n",
    "        y = signal.filtfilt(b, a, data)\n",
    "        self.data = y\n",
    "    \n",
    "    def filter_and_downsample(self, ds_factor=4):\n",
    "        self.data = signal.decimate(self.data, ds_factor, n=4)\n",
    "        self.frq = self.frq / ds_factor\n",
    "    \n",
    "#     def create_window(self, bin_num, total_width, seconds=0.1):\n",
    "#         bin_size = int(self.frq * seconds)\n",
    "#         frame = np.hanning(bin_size)\n",
    "#         left_pad = np.zeros(bin_num * bin_size)\n",
    "#         right_pad = np.zeros(total_width - ((bin_num + 1) * bin_size))\n",
    "#         window = np.concatenate((left_pad, frame, right_pad), axis=0)\n",
    "#         return window\n",
    "    \n",
    "    def apply_window(self, bin_num):\n",
    "        window = self.create_window(bin_num, len(data))\n",
    "        return self.data * window\n",
    "    \n",
    "    def zero_pad(self, records):\n",
    "        x = len(records)\n",
    "        zeroes = pow(2, math.ceil(math.log(x) / math.log(2))) - x\n",
    "        return np.concatenate((records, [0] * zeroes))\n",
    "    \n",
    "    def get_samples(self, bin_num):\n",
    "        np.hanning(bin_size)\n",
    "    \n",
    "    def create_frequencies_array(self, bin_seconds=0.1):\n",
    "        bin_size = int(frq * bin_seconds)\n",
    "        num_bins = len(original) // bin_size\n",
    "        results = []\n",
    "        for bin_num in range(num_bins): # num_bins\n",
    "            # values = apply_window(data, frq, bin_num)\n",
    "            # padded_values = zero_pad(values)\n",
    "            # padding gives you better resolution, but too expensive\n",
    "            samples = self.get_samples(bin_num)\n",
    "            magnitude = [abs(x) for x in np.fft.fft(samples)]\n",
    "            results.append(magnitude)\n",
    "            print(bin_num)\n",
    "        return results\n",
    "    \n",
    "    def __str__(self):\n",
    "        return \"Size \" + len(self.data) + \" sampled at \" + self.frq + \"Hz\""
   ]
  },
  {
   "cell_type": "code",
   "execution_count": null,
   "metadata": {},
   "outputs": [],
   "source": [
    "result = zero_pad(apply_window(original, frq, 0))\n",
    "plt.plot(result)\n",
    "plt.show()"
   ]
  },
  {
   "cell_type": "code",
   "execution_count": null,
   "metadata": {},
   "outputs": [],
   "source": []
  },
  {
   "cell_type": "code",
   "execution_count": null,
   "metadata": {},
   "outputs": [],
   "source": [
    "# Frequency went from 44.1kHz to 11.025kHz\n",
    "filtered_data.shape"
   ]
  },
  {
   "cell_type": "code",
   "execution_count": null,
   "metadata": {},
   "outputs": [],
   "source": [
    "plt.plot(filtered_data)\n",
    "plt.show()"
   ]
  },
  {
   "cell_type": "code",
   "execution_count": null,
   "metadata": {},
   "outputs": [],
   "source": [
    "results = create_frequencies(filtered_data)"
   ]
  },
  {
   "cell_type": "code",
   "execution_count": null,
   "metadata": {},
   "outputs": [],
   "source": [
    "plt.plot(results)\n",
    "plt.show()"
   ]
  },
  {
   "cell_type": "code",
   "execution_count": null,
   "metadata": {},
   "outputs": [],
   "source": []
  }
 ],
 "metadata": {
  "kernelspec": {
   "display_name": "Python 3",
   "language": "python",
   "name": "python3"
  },
  "language_info": {
   "codemirror_mode": {
    "name": "ipython",
    "version": 3
   },
   "file_extension": ".py",
   "mimetype": "text/x-python",
   "name": "python",
   "nbconvert_exporter": "python",
   "pygments_lexer": "ipython3",
   "version": "3.6.5"
  }
 },
 "nbformat": 4,
 "nbformat_minor": 2
}
