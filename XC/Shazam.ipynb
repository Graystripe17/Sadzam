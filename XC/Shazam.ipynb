{
 "cells": [
  {
   "cell_type": "code",
   "execution_count": 1,
   "metadata": {},
   "outputs": [
    {
     "name": "stderr",
     "output_type": "stream",
     "text": [
      "/Users/kitty/miniconda3/lib/python3.6/importlib/_bootstrap.py:219: RuntimeWarning: numpy.dtype size changed, may indicate binary incompatibility. Expected 96, got 88\n",
      "  return f(*args, **kwds)\n"
     ]
    }
   ],
   "source": [
    "from matplotlib.animation import PillowWriter\n",
    "import matplotlib.animation as animation\n",
    "from matplotlib import pyplot as plt\n",
    "from scipy.io.wavfile import read\n",
    "from scipy import signal, stats\n",
    "from decimal import *\n",
    "from cmath import *\n",
    "import numpy as np\n",
    "import cProfile\n",
    "import ipytest\n",
    "import random\n",
    "import pickle\n",
    "import pytest\n",
    "import math\n",
    "import os\n",
    "ipytest.config(rewrite_asserts=True, magics=True)\n",
    "__filename__ = \"XC\"\n",
    "getcontext().prec = 7\n",
    "getcontext().rounding = ROUND_HALF_DOWN"
   ]
  },
  {
   "cell_type": "code",
   "execution_count": 2,
   "metadata": {},
   "outputs": [],
   "source": [
    "def stereo_to_mono(audio):\n",
    "    return audio.sum(axis=1) / 2"
   ]
  },
  {
   "cell_type": "code",
   "execution_count": 3,
   "metadata": {},
   "outputs": [],
   "source": [
    "frq, raw_sample = read(\"oblivion.wav\")\n",
    "original = stereo_to_mono(raw_sample)"
   ]
  },
  {
   "cell_type": "code",
   "execution_count": 4,
   "metadata": {},
   "outputs": [],
   "source": [
    "frq, raw_sample = read(\"oblivion.cut.wav\")\n",
    "sample = stereo_to_mono(raw_sample)"
   ]
  },
  {
   "cell_type": "code",
   "execution_count": 5,
   "metadata": {},
   "outputs": [
    {
     "data": {
      "text/plain": [
       "959488"
      ]
     },
     "execution_count": 5,
     "metadata": {},
     "output_type": "execute_result"
    }
   ],
   "source": [
    "noise = np.random.normal(0, 1, sample.shape)\n",
    "len(noise)"
   ]
  },
  {
   "cell_type": "code",
   "execution_count": 6,
   "metadata": {},
   "outputs": [
    {
     "data": {
      "image/png": "[encoded data removed]",
      "text/plain": [
       "<Figure size 432x288 with 1 Axes>"
      ]
     },
     "metadata": {
      "needs_background": "light"
     },
     "output_type": "display_data"
    }
   ],
   "source": [
    "original_l, = plt.plot(original, label=\"original\")\n",
    "sample_l, = plt.plot(sample + noise, label=\"noisey sample\")\n",
    "plt.legend([original_l, sample_l], [\"original\", \"noisey\"])\n",
    "plt.show()"
   ]
  },
  {
   "cell_type": "code",
   "execution_count": 7,
   "metadata": {},
   "outputs": [],
   "source": [
    "class AudioClip(object):\n",
    "    def __init__(self, data, frq):\n",
    "        self.data = data\n",
    "        self.frq = frq\n",
    "        \n",
    "    def __get_item__(self, i):\n",
    "        return self.data[i]\n",
    "    \n",
    "    def low_pass(self, cutoff_frq, nyq_freq, order=4):\n",
    "        normal_cutoff = float(cutoff_frq) / nyq_freq\n",
    "        b, a = signal.butter(order, normal_cutoff, btype='lowpass', output='ba')\n",
    "        y = signal.filtfilt(b, a, self.data)\n",
    "        self.data = y\n",
    "    \n",
    "    def filter_and_downsample(self, ds_factor=4):\n",
    "        self.data = signal.decimate(self.data, ds_factor, n=4)\n",
    "        self.frq = self.frq / ds_factor\n",
    "    \n",
    "#     def create_window(self, bin_num, total_width, seconds=0.1):\n",
    "#         bin_size = int(self.frq * seconds)\n",
    "#         frame = np.hanning(bin_size)\n",
    "#         left_pad = np.zeros(bin_num * bin_size)\n",
    "#         right_pad = np.zeros(total_width - ((bin_num + 1) * bin_size))\n",
    "#         window = np.concatenate((left_pad, frame, right_pad), axis=0)\n",
    "#         return window\n",
    "    \n",
    "#     def apply_window(self, bin_num):\n",
    "#         window = self.create_window(bin_num, len(data))\n",
    "#         return self.data * window\n",
    "    \n",
    "#     def zero_pad(self, records):\n",
    "#         x = len(records)\n",
    "#         zeroes = pow(2, math.ceil(math.log(x) / math.log(2))) - x\n",
    "#         return np.concatenate((records, [0] * zeroes))\n",
    "    def get_snippet(self, bin_num, bin_size):\n",
    "        # For sampling frequency 12kHz and 0.1s window\n",
    "        # bin 0 should return 0 through 1199\n",
    "        # bin 1 should return 1200 through 2400\n",
    "        idx = bin_num * bin_size\n",
    "        snippet = self.data[idx:idx+bin_size]\n",
    "        assert len(snippet) == bin_size\n",
    "        return snippet\n",
    "    \n",
    "    def multiply_hamming(self, snippet, bin_size):\n",
    "        # Better than hanning window\n",
    "        # plt.plot(np.hanning(bin_size) * np.array(snippet))\n",
    "        return np.hamming(bin_size) * np.array(snippet)\n",
    "    \n",
    "    def discard_symmetry(self, frequencies):\n",
    "        half = len(frequencies) // 2\n",
    "        return frequencies[:half]\n",
    "    \n",
    "    def create_frequencies_array(self, bin_seconds=0.1):\n",
    "        bin_size = int(self.frq * bin_seconds)\n",
    "        num_bins = len(self.data) // bin_size\n",
    "        results = []\n",
    "        windowed_snippets = []\n",
    "        magnitudes = []\n",
    "        for b in range(num_bins):\n",
    "            # values = apply_window(data, frq, bin_num)\n",
    "            # padded_values = zero_pad(values)\n",
    "            # padding gives you better resolution, but too expensive\n",
    "            # more spectral leakage w/o padding\n",
    "            snippet = self.get_snippet(b, bin_size)\n",
    "            windowed_snippet = self.multiply_hamming(snippet, bin_size)\n",
    "            windowed_snippets.append(windowed_snippet)\n",
    "            # Can also use Hermitian to speed up\n",
    "            transform = self.discard_symmetry(np.fft.fft(windowed_snippet))\n",
    "            results.append(transform)\n",
    "            magnitude = [abs(x) for x in transform]\n",
    "            magnitudes.append(magnitude)\n",
    "        return magnitudes, windowed_snippets, results\n",
    "    \n",
    "    def __str__(self):\n",
    "        return \"Size %d sampled at %d Hz\" % (len(self.data), self.frq)"
   ]
  },
  {
   "cell_type": "code",
   "execution_count": 8,
   "metadata": {},
   "outputs": [
    {
     "name": "stdout",
     "output_type": "stream",
     "text": [
      "Size 7627232 sampled at 48000 Hz\n"
     ]
    },
    {
     "name": "stderr",
     "output_type": "stream",
     "text": [
      "/Users/kitty/miniconda3/lib/python3.6/site-packages/scipy/signal/_arraytools.py:45: FutureWarning: Using a non-tuple sequence for multidimensional indexing is deprecated; use `arr[tuple(seq)]` instead of `arr[seq]`. In the future this will be interpreted as an array index, `arr[np.array(seq)]`, which will result either in an error or a different result.\n",
      "  b = a[a_slice]\n",
      "/Users/kitty/miniconda3/lib/python3.6/site-packages/scipy/signal/signaltools.py:3463: FutureWarning: Using a non-tuple sequence for multidimensional indexing is deprecated; use `arr[tuple(seq)]` instead of `arr[seq]`. In the future this will be interpreted as an array index, `arr[np.array(seq)]`, which will result either in an error or a different result.\n",
      "  return y[sl]\n"
     ]
    }
   ],
   "source": [
    "ac = AudioClip(original, frq)\n",
    "print(ac)\n",
    "ac.low_pass(5000, 2 * 5000) # Cut at 5kHz\n",
    "ac.filter_and_downsample()"
   ]
  },
  {
   "cell_type": "code",
   "execution_count": 9,
   "metadata": {},
   "outputs": [
    {
     "name": "stdout",
     "output_type": "stream",
     "text": [
      "Size 1906808 sampled at 12000 Hz\n"
     ]
    }
   ],
   "source": [
    "print(ac)"
   ]
  },
  {
   "cell_type": "code",
   "execution_count": 10,
   "metadata": {},
   "outputs": [],
   "source": [
    "magnitudes, windowed_snippets, results = ac.create_frequencies_array()"
   ]
  },
  {
   "cell_type": "code",
   "execution_count": 11,
   "metadata": {},
   "outputs": [
    {
     "name": "stdout",
     "output_type": "stream",
     "text": [
      "1589 600\n"
     ]
    },
    {
     "data": {
      "image/png": "[encoded data removed]",
      "text/plain": [
       "<Figure size 432x288 with 1 Axes>"
      ]
     },
     "metadata": {
      "needs_background": "light"
     },
     "output_type": "display_data"
    }
   ],
   "source": [
    "# Frequency went from 44.1kHz to 11.025kHz\n",
    "print(len(results), len(results[0]))\n",
    "np.mean(results[1500])\n",
    "plt.plot([x.real for x in results[701]])\n",
    "plt.plot([x.imag for x in results[701]])\n",
    "plt.legend(['real', 'imag'])\n",
    "plt.show()"
   ]
  },
  {
   "cell_type": "code",
   "execution_count": 12,
   "metadata": {},
   "outputs": [],
   "source": [
    "def create_gif(file, title, results, xlabel=\"\", ylabel=\"\"):\n",
    "    ims = []\n",
    "    fig = plt.figure()\n",
    "    plt.gca().set_title(title)\n",
    "    plt.xlabel(xlabel)\n",
    "    plt.ylabel(ylabel)\n",
    "    color = random.randint(50, 200) / 255, random.randint(50, 200) / 255, random.randint(50, 200) / 255\n",
    "    for result in results:\n",
    "        ims.append(plt.plot(result, color=color))\n",
    "    ani = animation.ArtistAnimation(fig, ims, interval=50, blit=True, repeat_delay=500, repeat=True)\n",
    "    writer = PillowWriter(fps=50)\n",
    "    ani.save(file, writer=writer)\n",
    "    plt.show()"
   ]
  },
  {
   "cell_type": "code",
   "execution_count": null,
   "metadata": {},
   "outputs": [],
   "source": [
    "create_gif(\"magnitude.gif\", \"Magnitude of frequency response over time (0.1s step)\", magnitudes, xlabel=\"Frq (Hz)\", ylabel=\"Magnitude\")"
   ]
  },
  {
   "cell_type": "code",
   "execution_count": null,
   "metadata": {},
   "outputs": [],
   "source": [
    "create_gif(\"windowed.gif\", \"Windows in time domain over time (0.1s step)\", windowed_snippets, xlabel=\"Frq (Hz)\", ylabel=\"Window\")"
   ]
  },
  {
   "cell_type": "code",
   "execution_count": null,
   "metadata": {},
   "outputs": [],
   "source": [
    "create_gif(\"results.gif\", \"Results in the time domain (0.1s step)\", results, xlabel=\"Frq (Hz)\", ylabel=\"Results\")"
   ]
  },
  {
   "cell_type": "code",
   "execution_count": 13,
   "metadata": {},
   "outputs": [],
   "source": [
    "class Spectrogram:\n",
    "    def __init__(self, frq, data):\n",
    "        self.frq = frq\n",
    "        self.data = data\n",
    "        self.bins = []\n",
    "        self.populate()\n",
    "        \n",
    "    def populate(self):\n",
    "        all_bins = []\n",
    "        for d in self.data:\n",
    "            all_bins.append(FrequencyBin(self.frq, d))\n",
    "        self.bins = self.get_loud_bins(all_bins)\n",
    "            \n",
    "    def print_bins(self):\n",
    "        for b in self.bins:\n",
    "            print(b.save_above_threshold(), b.calc_threshold(b.get_max_per_level()))\n",
    "            \n",
    "    def get_loud_bins(self, all_bins):\n",
    "        return [b.save_above_threshold() for b in all_bins]\n",
    "\n",
    "    def make_pairs_dict(self, title, artist, anchor_lead=3, target_size=5):\n",
    "        ordering = self.get_bin_ordering()\n",
    "        pairs = {}\n",
    "        for a in range(len(self.bins) - anchor_lead - target_size):\n",
    "            anchor_time = ordering[a][0]\n",
    "            anchor_frq = ordering[a][1]\n",
    "            t_0 = a + anchor_lead\n",
    "            for target in ordering[t_0:t_0+target_size]:\n",
    "                target_time = target[0]\n",
    "                target_frq = target[1]\n",
    "                delta_t = target_time - anchor_time\n",
    "                pairs[(anchor_frq, target_frq, delta_t)] = anchor_time, title, artist\n",
    "        return pairs\n",
    "\n",
    "    def get_bin_ordering(self):\n",
    "        ordering = []\n",
    "        for f, bin_nums in zip([x / 10.0 for x in range(0, len(self.bins))], self.bins):\n",
    "            for bin_num in bin_nums:\n",
    "                x = Decimal(f).quantize(Decimal('0.1'))\n",
    "                y = Decimal(bin_num * (12000 / 600)).quantize(Decimal('0.1')) # Multiply by 20\n",
    "                ordering.append((x, y))\n",
    "        return ordering"
   ]
  },
  {
   "cell_type": "code",
   "execution_count": 14,
   "metadata": {},
   "outputs": [],
   "source": [
    "class FrequencyBin:\n",
    "    def __init__(self, frq, frequencies):\n",
    "        self.frq = frq\n",
    "        self.frequencies = frequencies\n",
    "        # Cut offs depend on numbins (from frq)\n",
    "        self.L1 = 10\n",
    "        self.L2 = 20\n",
    "        self.L3 = 40\n",
    "        self.L4 = 80\n",
    "        self.L5 = 160\n",
    "        self.points = self.save_above_threshold()\n",
    "        \n",
    "    def get_max_per_level(self):\n",
    "        M1, M2, M3, M4, M5, M6 = 0, 0, 0, 0, 0, 0\n",
    "        i1, i2, i3, i4, i5, i6 = 0, 0, 0, 0, 0, 0\n",
    "        for i, x in enumerate(self.frequencies):\n",
    "            if i < self.L1:\n",
    "                if x > M1:\n",
    "                    i1, M1 = i, x\n",
    "            elif i < self.L2:\n",
    "                if x > M2:\n",
    "                    i2, M2 = i, x\n",
    "            elif i < self.L3:\n",
    "                if x > M3:\n",
    "                    i3, M3 = i, x\n",
    "            elif i < self.L4:\n",
    "                if x > M4:\n",
    "                    i4, M4 = i, x\n",
    "            elif i < self.L5:\n",
    "                if x > M5:\n",
    "                    i5, M5 = i, x\n",
    "            else:\n",
    "                if x > M6:\n",
    "                    i6, M6 = i, x\n",
    "        i = [i1, i2, i3, i4, i5, i6]\n",
    "        M = [M1, M2, M3, M4, M5, M6]\n",
    "        return i, M\n",
    "                \n",
    "    def calc_threshold(self, max_per_level, abs_threshold=1, alpha=1.0):\n",
    "        self.mean = np.mean(max_per_level)\n",
    "        return max(self.mean * alpha, abs_threshold)\n",
    "    \n",
    "    def save_above_threshold(self):\n",
    "        bin_per_level, max_per_level = self.get_max_per_level()\n",
    "        threshold = self.calc_threshold(max_per_level)\n",
    "        points = [i for i, M in zip(bin_per_level, max_per_level) if M > threshold]\n",
    "        return points"
   ]
  },
  {
   "cell_type": "code",
   "execution_count": 15,
   "metadata": {},
   "outputs": [],
   "source": [
    "def create_spectrogram(file, bins):\n",
    "    X = []\n",
    "    Y = []\n",
    "    for x, bin_nums in zip([x / 10.0 for x in range(0, len(bins))], bins):\n",
    "        for bin_num in bin_nums:\n",
    "            y = bin_num * (12000 / 600) # Multiply by 20\n",
    "            X.append(x)\n",
    "            Y.append(y)\n",
    "    plt.scatter(X, Y, s=0.5)\n",
    "    plt.title(file)\n",
    "    plt.xlabel(\"Time (s)\")\n",
    "    plt.ylabel(\"Frq (Hz)\")\n",
    "    plt.savefig(file)\n",
    "    return len(X)"
   ]
  },
  {
   "cell_type": "markdown",
   "metadata": {},
   "source": [
    "nfft = 512\n",
    "Pxx, freqs, bins, image = plt.specgram(original, Fs=12000, NFFT=nfft, window=np.hamming(nfft), noverlap=2)"
   ]
  },
  {
   "cell_type": "code",
   "execution_count": 16,
   "metadata": {},
   "outputs": [],
   "source": [
    "def create_spec_gif(file, title, xlabel, ylabel, results):\n",
    "    ims = []\n",
    "    fig = plt.figure()\n",
    "    plt.gca().set_title(title)\n",
    "    plt.xlabel(xlabel)\n",
    "    plt.ylabel(ylabel)\n",
    "    i = 0\n",
    "    for result in results:\n",
    "        Pxx, freqs, bins, image = plt.specgram(result, Fs=12000, NFFT=512, window=np.hamming(512), noverlap=2)\n",
    "        ims.append([image])\n",
    "        print(image, i)\n",
    "        i += 1\n",
    "    ani = animation.ArtistAnimation(fig, ims, interval=50, blit=True, repeat_delay=500, repeat=True)\n",
    "    writer = PillowWriter(fps=50)\n",
    "    ani.save(file, writer=writer)\n",
    "    plt.show()"
   ]
  },
  {
   "cell_type": "code",
   "execution_count": 17,
   "metadata": {},
   "outputs": [
    {
     "data": {
      "image/png": "[encoded data removed]",
      "text/plain": [
       "<Figure size 432x288 with 1 Axes>"
      ]
     },
     "metadata": {
      "needs_background": "light"
     },
     "output_type": "display_data"
    }
   ],
   "source": [
    "oblivion_spec = Spectrogram(12000, magnitudes)\n",
    "create_spectrogram(\"Alpha2\", oblivion_spec.bins)\n",
    "oblivion_pairs = oblivion_spec.make_pairs_dict(\"oblivion\", \"lily potter\")"
   ]
  },
  {
   "cell_type": "code",
   "execution_count": 18,
   "metadata": {},
   "outputs": [
    {
     "ename": "NameError",
     "evalue": "name 'p' is not defined",
     "output_type": "error",
     "traceback": [
      "\u001b[0;31m---------------------------------------------------------------------------\u001b[0m",
      "\u001b[0;31mNameError\u001b[0m                                 Traceback (most recent call last)",
      "\u001b[0;32m<ipython-input-18-a3264720b979>\u001b[0m in \u001b[0;36m<module>\u001b[0;34m()\u001b[0m\n\u001b[1;32m      1\u001b[0m \u001b[0;32mimport\u001b[0m \u001b[0msys\u001b[0m\u001b[0;34m\u001b[0m\u001b[0m\n\u001b[0;32m----> 2\u001b[0;31m \u001b[0msys\u001b[0m\u001b[0;34m.\u001b[0m\u001b[0mgetsizeof\u001b[0m\u001b[0;34m(\u001b[0m\u001b[0mp\u001b[0m\u001b[0;34m)\u001b[0m\u001b[0;34m\u001b[0m\u001b[0m\n\u001b[0m\u001b[1;32m      3\u001b[0m \u001b[0mdecimal\u001b[0m\u001b[0;34m.\u001b[0m\u001b[0mgetcontext\u001b[0m\u001b[0;34m(\u001b[0m\u001b[0;34m)\u001b[0m\u001b[0;34m\u001b[0m\u001b[0m\n",
      "\u001b[0;31mNameError\u001b[0m: name 'p' is not defined"
     ]
    }
   ],
   "source": [
    "import sys\n",
    "sys.getsizeof(p)\n",
    "decimal.getcontext()"
   ]
  },
  {
   "cell_type": "code",
   "execution_count": null,
   "metadata": {},
   "outputs": [],
   "source": [
    "sample_clip = AudioClip(sample, frq)\n",
    "print(sample_clip)\n",
    "sample_clip.low_pass(5000, 2 * 5000) # Cut at 5kHz\n",
    "sample_clip.filter_and_downsample()\n",
    "s_magnitudes, s_windows, s_results = sample_clip.create_frequencies_array()"
   ]
  },
  {
   "cell_type": "code",
   "execution_count": 19,
   "metadata": {},
   "outputs": [
    {
     "ename": "NameError",
     "evalue": "name 's_magnitudes' is not defined",
     "output_type": "error",
     "traceback": [
      "\u001b[0;31m---------------------------------------------------------------------------\u001b[0m",
      "\u001b[0;31mNameError\u001b[0m                                 Traceback (most recent call last)",
      "\u001b[0;32m<ipython-input-19-d9c9401f0d9c>\u001b[0m in \u001b[0;36m<module>\u001b[0;34m()\u001b[0m\n\u001b[0;32m----> 1\u001b[0;31m \u001b[0msample_spec\u001b[0m \u001b[0;34m=\u001b[0m \u001b[0mSpectrogram\u001b[0m\u001b[0;34m(\u001b[0m\u001b[0;36m12000\u001b[0m\u001b[0;34m,\u001b[0m \u001b[0ms_magnitudes\u001b[0m\u001b[0;34m)\u001b[0m\u001b[0;34m\u001b[0m\u001b[0m\n\u001b[0m\u001b[1;32m      2\u001b[0m \u001b[0mcreate_spectrogram\u001b[0m\u001b[0;34m(\u001b[0m\u001b[0;34m\"sample\"\u001b[0m\u001b[0;34m,\u001b[0m \u001b[0msample_spec\u001b[0m\u001b[0;34m.\u001b[0m\u001b[0mbins\u001b[0m\u001b[0;34m)\u001b[0m\u001b[0;34m\u001b[0m\u001b[0m\n",
      "\u001b[0;31mNameError\u001b[0m: name 's_magnitudes' is not defined"
     ]
    }
   ],
   "source": [
    "sample_spec = Spectrogram(12000, s_magnitudes)\n",
    "create_spectrogram(\"sample\", sample_spec.bins)"
   ]
  },
  {
   "cell_type": "code",
   "execution_count": 20,
   "metadata": {},
   "outputs": [
    {
     "ename": "NameError",
     "evalue": "name 'sample_spec' is not defined",
     "output_type": "error",
     "traceback": [
      "\u001b[0;31m---------------------------------------------------------------------------\u001b[0m",
      "\u001b[0;31mNameError\u001b[0m                                 Traceback (most recent call last)",
      "\u001b[0;32m<ipython-input-20-311dc9020bc0>\u001b[0m in \u001b[0;36m<module>\u001b[0;34m()\u001b[0m\n\u001b[1;32m      1\u001b[0m \u001b[0mhit\u001b[0m \u001b[0;34m=\u001b[0m \u001b[0;36m0\u001b[0m\u001b[0;34m\u001b[0m\u001b[0m\n\u001b[1;32m      2\u001b[0m \u001b[0mmiss\u001b[0m \u001b[0;34m=\u001b[0m \u001b[0;36m0\u001b[0m\u001b[0;34m\u001b[0m\u001b[0m\n\u001b[0;32m----> 3\u001b[0;31m \u001b[0;32mfor\u001b[0m \u001b[0maddress\u001b[0m \u001b[0;32min\u001b[0m \u001b[0msample_spec\u001b[0m\u001b[0;34m.\u001b[0m\u001b[0mmake_pairs_dict\u001b[0m\u001b[0;34m(\u001b[0m\u001b[0;34m\"sample\"\u001b[0m\u001b[0;34m,\u001b[0m \u001b[0;34m\"sample\"\u001b[0m\u001b[0;34m)\u001b[0m\u001b[0;34m:\u001b[0m\u001b[0;34m\u001b[0m\u001b[0m\n\u001b[0m\u001b[1;32m      4\u001b[0m     \u001b[0;32mtry\u001b[0m\u001b[0;34m:\u001b[0m\u001b[0;34m\u001b[0m\u001b[0m\n\u001b[1;32m      5\u001b[0m         \u001b[0moblivion_pairs\u001b[0m\u001b[0;34m[\u001b[0m\u001b[0maddress\u001b[0m\u001b[0;34m]\u001b[0m\u001b[0;34m\u001b[0m\u001b[0m\n",
      "\u001b[0;31mNameError\u001b[0m: name 'sample_spec' is not defined"
     ]
    }
   ],
   "source": [
    "hit = 0\n",
    "miss = 0\n",
    "for address in sample_spec.make_pairs_dict(\"sample\", \"sample\"):\n",
    "    try:\n",
    "        oblivion_pairs[address]\n",
    "        print(address, oblivion_pairs[address])\n",
    "        hit += 1\n",
    "    except:\n",
    "        miss += 1\n",
    "print(hit, miss)"
   ]
  },
  {
   "cell_type": "code",
   "execution_count": null,
   "metadata": {},
   "outputs": [],
   "source": []
  },
  {
   "cell_type": "code",
   "execution_count": null,
   "metadata": {},
   "outputs": [],
   "source": []
  },
  {
   "cell_type": "code",
   "execution_count": null,
   "metadata": {},
   "outputs": [
    {
     "name": "stdout",
     "output_type": "stream",
     "text": [
      "highhorse kaceymusgraves\n"
     ]
    },
    {
     "name": "stderr",
     "output_type": "stream",
     "text": [
      "/Users/kitty/miniconda3/lib/python3.6/site-packages/scipy/signal/_arraytools.py:45: FutureWarning: Using a non-tuple sequence for multidimensional indexing is deprecated; use `arr[tuple(seq)]` instead of `arr[seq]`. In the future this will be interpreted as an array index, `arr[np.array(seq)]`, which will result either in an error or a different result.\n",
      "  b = a[a_slice]\n",
      "/Users/kitty/miniconda3/lib/python3.6/site-packages/scipy/signal/signaltools.py:3463: FutureWarning: Using a non-tuple sequence for multidimensional indexing is deprecated; use `arr[tuple(seq)]` instead of `arr[seq]`. In the future this will be interpreted as an array index, `arr[np.array(seq)]`, which will result either in an error or a different result.\n",
      "  return y[sl]\n"
     ]
    },
    {
     "name": "stdout",
     "output_type": "stream",
     "text": [
      "5272 0\n",
      "creep radiohead\n",
      "2726 5272\n",
      "welcometotheblackparade mychemicalromance\n",
      "6270 7029\n",
      "niceforwhat drake\n",
      "10716 11219\n",
      "pleasetellrosie allefarben\n",
      "4400 20897\n",
      "everydaystruggle biggie\n",
      "4981 23435\n",
      "trouble cagetheelephant\n",
      "4871 26194\n",
      "puzzlepieces saintmotel\n",
      "5154 27937\n",
      "brave sarabareilles\n",
      "4903 29858\n",
      "od britneystoney\n",
      "3253 31667\n",
      "somewhereovertherainbow iz\n",
      "3770 32531\n",
      "duality slipknot\n",
      "4589 34200\n",
      ".DS_Store Unable to read file\n",
      "101 walla\n",
      "3084 35718\n",
      "rocketman eltonjohn\n",
      "5371 36190\n",
      "stoletheshow kygo\n",
      "8318 38064\n",
      "thedifference flume\n",
      "3566 41982\n",
      "clairdelune debussy\n",
      "3044 43368\n",
      "bluebird mirandalambert\n",
      "4106 44307\n",
      "bodylikeabackroad samhunt\n",
      "3783 45167\n",
      "soberup ajr\n",
      "4230 46119\n",
      "mercury ghostemane\n",
      "2514 47057\n",
      "whiteiverson postmalone\n",
      "4709 48570\n",
      "dontstopmenow queen\n",
      "5665 50363\n",
      "sendmylove adele\n",
      "3830 52487\n",
      "sowhat milesdavis\n",
      "12698 53200\n",
      "smellsliketeenspirit nirvana\n",
      "4866 58956\n",
      "youmeandthebourgeoisie thesubmarines\n",
      "5927 60136\n",
      "thunderstruck acdc\n",
      "4834 62020\n",
      "buffalosoldier bobmarley\n",
      "4361 64262\n",
      "littleslice watsky\n",
      "2948 65198\n",
      "cracklinrosie neildiamond\n",
      "4129 65492\n",
      "ifiaintgotyou aliciakeys\n",
      "4439 65964\n",
      "stairwaytoheaven ledzeppelin\n",
      "6264 66571\n",
      "sohigh skimasktheslumpgod\n",
      "3281 67701\n",
      "drowningworld andrewapplepie\n",
      "3252 68201\n",
      "oui jeremih\n",
      "5980 68567\n",
      "3nights dominicfike\n",
      "2987 70035\n",
      "bailando enriqueiglesias\n",
      "5332 70230\n",
      "electriclove borns\n",
      "5078 70875\n",
      "woods macmiller\n",
      "3637 71770\n",
      "stolendance milkychance\n",
      "6479 71982\n",
      "starman davidbowie\n",
      "4726 73628\n",
      "forthelongesttime billyjoel\n",
      "4241 74280\n",
      "hotshower chance\n",
      "7630 74819\n",
      "middle djsnake\n",
      "4608 77975\n",
      "jessiesgirl rickspringfield\n",
      "5225 78921\n",
      "stayhigh brittanyhoward\n",
      "4031 79651\n",
      "yeahright joji\n",
      "2614 79923\n",
      "ilikethat janellemonae\n",
      "2583 80380\n",
      "neededme rihanna\n",
      "5486 80616\n",
      "malibu mileycyrus\n",
      "5701 81864\n",
      "iwanttoholdyourhand thebeatles\n",
      "5133 83341\n",
      "singsingsing bennygoodman\n"
     ]
    }
   ],
   "source": [
    "def build_database(path='./songs', outfile='./database/database.pickle'):\n",
    "    database = {}\n",
    "    for song_path in os.listdir(path):\n",
    "        try:\n",
    "            frq, raw_sample = read(os.path.join(path, song_path))\n",
    "        except:\n",
    "            print(song_path, \"Unable to read file\")\n",
    "            continue\n",
    "        title, artist, wav = song_path.split('.')\n",
    "        print(title, artist)\n",
    "        original = stereo_to_mono(raw_sample)\n",
    "        ac = AudioClip(original, frq)\n",
    "        ac.low_pass(5000, 2 * 5000) # Cut at 5kHz\n",
    "        ac.filter_and_downsample()\n",
    "        magnitudes, windowed_snippets, results = ac.create_frequencies_array()\n",
    "        original_spec = Spectrogram(12000, magnitudes)\n",
    "        create_spectrogram(\"Original Spectrogram\", original_spec.bins)\n",
    "        original_pairs = original_spec.make_pairs_dict(title, artist)\n",
    "        print(len(original_pairs), len(database))\n",
    "        database.update(original_pairs)\n",
    "        with open(outfile, 'wb') as oh:\n",
    "            pickle.dump(database, oh)\n",
    "    return database\n",
    "        \n",
    "build_database()"
   ]
  },
  {
   "cell_type": "code",
   "execution_count": null,
   "metadata": {},
   "outputs": [],
   "source": []
  },
  {
   "cell_type": "code",
   "execution_count": null,
   "metadata": {},
   "outputs": [],
   "source": []
  }
 ],
 "metadata": {
  "kernelspec": {
   "display_name": "Python 3",
   "language": "python",
   "name": "python3"
  },
  "language_info": {
   "codemirror_mode": {
    "name": "ipython",
    "version": 3
   },
   "file_extension": ".py",
   "mimetype": "text/x-python",
   "name": "python",
   "nbconvert_exporter": "python",
   "pygments_lexer": "ipython3",
   "version": "3.6.5"
  }
 },
 "nbformat": 4,
 "nbformat_minor": 2
}
